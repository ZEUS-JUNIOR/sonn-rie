{
 "cells": [
  {
   "cell_type": "code",
   "execution_count": 1,
   "id": "8fde7bb2",
   "metadata": {},
   "outputs": [],
   "source": [
    "import calendar as cl"
   ]
  },
  {
   "cell_type": "code",
   "execution_count": 2,
   "id": "0ad62349",
   "metadata": {},
   "outputs": [
    {
     "name": "stdout",
     "output_type": "stream",
     "text": [
      "[0, 0, 1, 2, 3, 4, 5]\n",
      "[6, 7, 8, 9, 10, 11, 12]\n",
      "[13, 14, 15, 16, 17, 18, 19]\n",
      "[20, 21, 22, 23, 24, 25, 26]\n",
      "[27, 28, 0, 0, 0, 0, 0]\n"
     ]
    }
   ],
   "source": [
    "for day in list(cl.monthcalendar(2017,2)):\n",
    "    print(day)"
   ]
  },
  {
   "cell_type": "code",
   "execution_count": 3,
   "id": "6a53b998",
   "metadata": {},
   "outputs": [],
   "source": [
    "import pathlib\n",
    "import csv\n",
    "\n",
    "# Let's start by defines variables\n",
    "subjects_list = []\n",
    "start_hour = 8 # school start at 8.am\n",
    "next_hour = 9 # 1rst next hour is 9.am\n",
    "school_days = [\n",
    "    'monday',\n",
    "    'tuesday'\n",
    "]\n",
    "time_slot_list = [] # get list of time slot\n",
    "subject_per_slot = {}"
   ]
  },
  {
   "cell_type": "code",
   "execution_count": 4,
   "id": "a532fbb6",
   "metadata": {},
   "outputs": [],
   "source": [
    "MAX_HOUR_PER_SUBJECT = 6 # use capital letter because it's a constant variable\n",
    "subject_hour_count = {}"
   ]
  },
  {
   "cell_type": "code",
   "execution_count": 5,
   "id": "1f089650",
   "metadata": {},
   "outputs": [],
   "source": [
    "def fill_in_subjects_list():\n",
    "    \"\"\"Ask user subjects and fill in subjects list\"\"\"\n",
    "\n",
    "    enter_another_subject = True\n",
    "    while enter_another_subject:\n",
    "        subject = input('Type another subject: ')\n",
    "        subject = subject.capitalize()\n",
    "\n",
    "        if not subject in subjects_list:\n",
    "            subjects_list.append(subject)\n",
    "            subject_hour_count[subject] = MAX_HOUR_PER_SUBJECT\n",
    "        else:\n",
    "            print(f'You\\'ve already type {subject} in list.')\n",
    "\n",
    "        question = input('Enter another subject (type \"n\" to exit)?')\n",
    "\n",
    "        if question.lower() == 'n':\n",
    "            enter_another_subject = False"
   ]
  },
  {
   "cell_type": "code",
   "execution_count": 6,
   "id": "8af04a31",
   "metadata": {},
   "outputs": [],
   "source": [
    "def fill_in_subjects_list():\n",
    "    \"\"\"Ask user subjects and fill in subjects list\"\"\"\n",
    "\n",
    "    enter_another_subject = True\n",
    "    while enter_another_subject:\n",
    "        subject = input('Type another subject: ')\n",
    "        subject = subject.capitalize()\n",
    "\n",
    "        if not subject in subjects_list:\n",
    "            subjects_list.append(subject)\n",
    "            subject_hour_count[subject] = MAX_HOUR_PER_SUBJECT\n",
    "        else:\n",
    "            print(f'You\\'ve already type {subject} in list.')\n",
    "\n",
    "        question = input('Enter another subject (type \"n\" to exit)?')\n",
    "\n",
    "        if question.lower() == 'n':\n",
    "            enter_another_subject = False"
   ]
  },
  {
   "cell_type": "code",
   "execution_count": 7,
   "id": "0aa70c04",
   "metadata": {},
   "outputs": [],
   "source": [
    "def ask_hour():\n",
    "    \"\"\"Ask hour to user\"\"\"\n",
    "    print(f'Subjects list: {subjects_list}')\n",
    "\n",
    "    print(f'Planning time: {start_hour}h-{next_hour}h')\n",
    "    user_answer = input('What\\'s subject do you want put here? ')\n",
    "\n",
    "    return user_answer\n",
    "\n",
    "def fill_in_timetable():\n",
    "    \"\"\"Display an hour & ask user which subject he want to put there\"\"\"\n",
    "    global start_hour\n",
    "    global next_hour\n",
    "\n",
    "    for day in school_days:\n",
    "        # Reset start and next hour\n",
    "        the_hour = {}\n",
    "        time = 0\n",
    "        start_hour = 8 # we suppose that school start at 8.am\n",
    "        next_hour = 9\n",
    "\n",
    "        print('\\n---------------------------')\n",
    "        print(f'{day.capitalize()} timetable')\n",
    "        print('---------------------------\\n')\n",
    "\n",
    "        while time < 4: # Suppose we've 4hours course/day (you can change it)\n",
    "\n",
    "            hour_format = f'{start_hour}h-{next_hour}h' # format time slot\n",
    "            # it's represent 8 hours/per day for school\n",
    "            if time == 2: # if it's a midday (12.am), make a break\n",
    "                # Add a break in timetable with 'Break time' as inscription\n",
    "                subject_per_slot[hour_format] = ['Break time']\n",
    "\n",
    "                # Add hour format while making sure we avoid duplicate\n",
    "                if not hour_format in time_slot_list:\n",
    "                    time_slot_list.append('hour_format')\n",
    "\n",
    "            else:\n",
    "                chosen_subject = ask_hour().capitalize()\n",
    "                print(f'start_hour: {start_hour}')\n",
    "                print(f'next_hour: {next_hour}')\n",
    "\n",
    "                # Check that subject chosen by user is in subjects list\n",
    "                while not chosen_subject in subjects_list:\n",
    "                    print(f'{chosen_subject} is not in subjects list.')\n",
    "                    print('Choose another subject.')\n",
    "                    chosen_subject = ask_hour().capitalize()\n",
    "\n",
    "                # Add hour format while making sure we avoid duplicate\n",
    "                if not hour_format in time_slot_list:\n",
    "                    time_slot_list.append(hour_format)\n",
    "                    subject_per_slot[hour_format] = [chosen_subject]\n",
    "                else:\n",
    "                    subject_per_slot[hour_format] += [chosen_subject]\n",
    "\n",
    "                # Check that chosen subject max hours didn't reached\n",
    "                for subject, max_hour in subject_hour_count.items():\n",
    "                    if chosen_subject == subject:\n",
    "                        # remove one hour on subject max hour\n",
    "                        subject_hour_count[chosen_subject] = max_hour - 1\n",
    "\n",
    "            # go to next hour\n",
    "            start_hour += 1\n",
    "            next_hour += 1\n",
    "            time += 1"
   ]
  },
  {
   "cell_type": "code",
   "execution_count": 8,
   "id": "0c4e8b81",
   "metadata": {},
   "outputs": [],
   "source": [
    "def fill_out_subjects_list():\n",
    "    \"\"\"Ask user subjects and fill in subjects list\"\"\"\n",
    "\n",
    "    subjects = input('Type all subjects you want add in subjects list\\\n",
    "and separate them by comma: ') # we collect all subjects\n",
    "\n",
    "    the_subjects = subjects.replace(', ', ',') # remove space after comma\n",
    "\n",
    "    # Split all subjects in order to put them into a list\n",
    "    the_subjects = the_subjects.split(',')\n",
    "\n",
    "    for subject in the_subjects:\n",
    "        subject = subject.capitalize()\n",
    "\n",
    "        if not subject in subjects_list:\n",
    "            subjects_list.append(subject)\n",
    "            subject_hour_count[subject] = MAX_HOUR_PER_SUBJECT"
   ]
  },
  {
   "cell_type": "code",
   "execution_count": 9,
   "id": "e1c005d2",
   "metadata": {},
   "outputs": [
    {
     "name": "stdout",
     "output_type": "stream",
     "text": [
      "Type all subjects you want add in subjects listand separate them by comma: ju\n",
      "\n",
      "---------------------------\n",
      "Monday timetable\n",
      "---------------------------\n",
      "\n",
      "Subjects list: ['Ju']\n",
      "Planning time: 8h-9h\n",
      "What's subject do you want put here? ju\n",
      "start_hour: 8\n",
      "next_hour: 9\n",
      "Subjects list: ['Ju']\n",
      "Planning time: 9h-10h\n",
      "What's subject do you want put here? uj\n",
      "start_hour: 9\n",
      "next_hour: 10\n",
      "Uj is not in subjects list.\n",
      "Choose another subject.\n",
      "Subjects list: ['Ju']\n",
      "Planning time: 9h-10h\n",
      "What's subject do you want put here? ju\n",
      "Subjects list: ['Ju']\n",
      "Planning time: 11h-12h\n",
      "What's subject do you want put here? ju\n",
      "start_hour: 11\n",
      "next_hour: 12\n",
      "\n",
      "---------------------------\n",
      "Tuesday timetable\n",
      "---------------------------\n",
      "\n",
      "Subjects list: ['Ju']\n",
      "Planning time: 8h-9h\n",
      "What's subject do you want put here? ju\n",
      "start_hour: 8\n",
      "next_hour: 9\n",
      "Subjects list: ['Ju']\n",
      "Planning time: 9h-10h\n",
      "What's subject do you want put here? ju\n",
      "start_hour: 9\n",
      "next_hour: 10\n",
      "Subjects list: ['Ju']\n",
      "Planning time: 11h-12h\n",
      "What's subject do you want put here? ju\n",
      "start_hour: 11\n",
      "next_hour: 12\n",
      "Subject per slot: {'8h-9h': ['Ju', 'Ju'], '9h-10h': ['Ju', 'Ju'], '10h-11h': ['Break time'], '11h-12h': ['Ju', 'Ju']}\n",
      "Your timetable is ready\n"
     ]
    }
   ],
   "source": [
    "\n",
    "\n",
    "fill_out_subjects_list()\n",
    "fill_in_timetable()\n",
    "print(f'Subject per slot: {subject_per_slot}')\n",
    "\n",
    "timetable_path = pathlib.Path.cwd() / 'timetable.csv'\n",
    "\n",
    "# Now, let's write process to save timetable into a csv file\n",
    "with open(timetable_path, 'w') as timetable_file:\n",
    "    timetable_writing = csv.writer(timetable_file)\n",
    "\n",
    "    # Write headers into csv file\n",
    "    csv_headers = ['Hours']\n",
    "    csv_headers.extend(school_days)\n",
    "    timetable_writing.writerow(csv_headers)\n",
    "\n",
    "    # Write content into csv file\n",
    "    for time_slot, concerned_subjects in subject_per_slot.items():\n",
    "        time_line = [time_slot]\n",
    "        concerned_subjects_list = []\n",
    "\n",
    "        if concerned_subjects == ['Break time']:\n",
    "            for x in range(0, len(school_days)):\n",
    "                concerned_subjects_list.append('Break time')\n",
    "        else:\n",
    "            concerned_subjects_list = concerned_subjects\n",
    "\n",
    "        final_line = time_line + concerned_subjects_list\n",
    "        timetable_writing.writerow(final_line)\n",
    "    print('Your timetable is ready')"
   ]
  },
  {
   "cell_type": "code",
   "execution_count": 1,
   "id": "47590299",
   "metadata": {},
   "outputs": [],
   "source": [
    "annee = [annee for annee in range(2021,2035)]\n"
   ]
  },
  {
   "cell_type": "code",
   "execution_count": 2,
   "id": "f81cd680",
   "metadata": {},
   "outputs": [],
   "source": [
    "moi = [i for i in range(12)]"
   ]
  },
  {
   "cell_type": "code",
   "execution_count": 3,
   "id": "22bcb951",
   "metadata": {},
   "outputs": [
    {
     "data": {
      "text/plain": [
       "[0, 1, 2, 3, 4, 5, 6, 7, 8, 9, 10, 11]"
      ]
     },
     "execution_count": 3,
     "metadata": {},
     "output_type": "execute_result"
    }
   ],
   "source": [
    "moi"
   ]
  },
  {
   "cell_type": "code",
   "execution_count": 4,
   "id": "c2f45b77",
   "metadata": {},
   "outputs": [],
   "source": [
    "#semaine=[i for i in range(5)]\n",
    "jour = [i for i in range(32)]\n",
    "heure=[i for i in range(24)]\n",
    "minute=[i for i in range(60)]\n",
    "seconde = [ 0 for i in range(60)]"
   ]
  },
  {
   "cell_type": "code",
   "execution_count": 5,
   "id": "4234c7bd",
   "metadata": {},
   "outputs": [
    {
     "data": {
      "text/plain": [
       "'secondes = {}\\nfor i in minute:\\n    minutes[i] = seconde\\nminutes[0]'"
      ]
     },
     "execution_count": 5,
     "metadata": {},
     "output_type": "execute_result"
    }
   ],
   "source": [
    "'''secondes = {}\n",
    "for i in minute:\n",
    "    minutes[i] = seconde\n",
    "minutes[0]'''"
   ]
  },
  {
   "cell_type": "code",
   "execution_count": 6,
   "id": "7c8f643e",
   "metadata": {},
   "outputs": [
    {
     "data": {
      "text/plain": [
       "0"
      ]
     },
     "execution_count": 6,
     "metadata": {},
     "output_type": "execute_result"
    }
   ],
   "source": [
    "minutes = {}\n",
    "for i in minute:\n",
    "    minutes[i] = 0\n",
    "minutes[0]"
   ]
  },
  {
   "cell_type": "code",
   "execution_count": 7,
   "id": "209cf35b",
   "metadata": {},
   "outputs": [],
   "source": [
    "heures = {}\n",
    "for i in heure:\n",
    "    heures[i] = minutes\n"
   ]
  },
  {
   "cell_type": "code",
   "execution_count": 8,
   "id": "10fbd803",
   "metadata": {},
   "outputs": [],
   "source": [
    "jours = {}\n",
    "for i in jour:\n",
    "    jours[i] = heures\n"
   ]
  },
  {
   "cell_type": "code",
   "execution_count": 9,
   "id": "c9e5f651",
   "metadata": {},
   "outputs": [
    {
     "data": {
      "text/plain": [
       "'semaines = {}\\nfor i in semaine:\\n    semaines[i] = jours\\n'"
      ]
     },
     "execution_count": 9,
     "metadata": {},
     "output_type": "execute_result"
    }
   ],
   "source": [
    "'''semaines = {}\n",
    "for i in semaine:\n",
    "    semaines[i] = jours\n",
    "'''"
   ]
  },
  {
   "cell_type": "code",
   "execution_count": 10,
   "id": "6ea808c1",
   "metadata": {},
   "outputs": [],
   "source": [
    "\"\"\"mois = {}\n",
    "for i in moi:\n",
    "    mois[i]=semaines\"\"\"\n",
    "mois = {}\n",
    "for i in moi:\n",
    "    mois[i]=jours"
   ]
  },
  {
   "cell_type": "code",
   "execution_count": 11,
   "id": "217e656b",
   "metadata": {},
   "outputs": [],
   "source": [
    "annees = {}\n",
    "for i in annee:\n",
    "    annees[i]=mois"
   ]
  },
  {
   "cell_type": "code",
   "execution_count": 12,
   "id": "44833e32",
   "metadata": {},
   "outputs": [
    {
     "data": {
      "text/plain": [
       "0"
      ]
     },
     "execution_count": 12,
     "metadata": {},
     "output_type": "execute_result"
    }
   ],
   "source": [
    "annees[2031][1][1][1][1]"
   ]
  },
  {
   "cell_type": "code",
   "execution_count": 13,
   "id": "fbdca022",
   "metadata": {},
   "outputs": [],
   "source": [
    "import json"
   ]
  },
  {
   "cell_type": "code",
   "execution_count": 14,
   "id": "3ee879a8",
   "metadata": {},
   "outputs": [
    {
     "data": {
      "text/plain": [
       "14"
      ]
     },
     "execution_count": 14,
     "metadata": {},
     "output_type": "execute_result"
    }
   ],
   "source": [
    "len(annees)"
   ]
  },
  {
   "cell_type": "code",
   "execution_count": 15,
   "id": "676f11a0",
   "metadata": {},
   "outputs": [],
   "source": [
    "with open('data.json', 'w') as outfile:\n",
    "    json.dump(annees, outfile)"
   ]
  },
  {
   "cell_type": "code",
   "execution_count": 16,
   "id": "ff4716a5",
   "metadata": {},
   "outputs": [],
   "source": [
    "with open('data.json', 'r') as openfile:\n",
    "    # Reading from json file\n",
    "    annees = json.load(openfile)"
   ]
  },
  {
   "cell_type": "code",
   "execution_count": 17,
   "id": "323caf97",
   "metadata": {},
   "outputs": [
    {
     "data": {
      "text/plain": [
       "0"
      ]
     },
     "execution_count": 17,
     "metadata": {},
     "output_type": "execute_result"
    }
   ],
   "source": [
    "annees['2021'][\"1\"]['1'][\"1\"]['3']"
   ]
  },
  {
   "cell_type": "code",
   "execution_count": 47,
   "id": "18939458",
   "metadata": {
    "scrolled": true
   },
   "outputs": [
    {
     "data": {
      "text/plain": [
       "dict_keys(['0', '1', '2', '3', '4', '5', '6', '7', '8', '9', '10', '11'])"
      ]
     },
     "execution_count": 47,
     "metadata": {},
     "output_type": "execute_result"
    }
   ],
   "source": [
    "annees['2021'].keys()"
   ]
  },
  {
   "cell_type": "code",
   "execution_count": 48,
   "id": "ea5e7f1d",
   "metadata": {},
   "outputs": [],
   "source": [
    "from datetime import datetime"
   ]
  },
  {
   "cell_type": "code",
   "execution_count": 49,
   "id": "8f562c48",
   "metadata": {},
   "outputs": [
    {
     "data": {
      "text/plain": [
       "dict_keys(['0', '1', '2', '3', '4', '5', '6', '7', '8', '9', '10', '11', '12', '13', '14', '15', '16', '17', '18', '19', '20', '21', '22', '23', '24', '25', '26', '27', '28', '29', '30', '31'])"
      ]
     },
     "execution_count": 49,
     "metadata": {},
     "output_type": "execute_result"
    }
   ],
   "source": [
    "annees['2021'][\"8\"].keys()"
   ]
  },
  {
   "cell_type": "code",
   "execution_count": 50,
   "id": "03578fc7",
   "metadata": {},
   "outputs": [],
   "source": [
    "a = datetime.now()"
   ]
  },
  {
   "cell_type": "code",
   "execution_count": 51,
   "id": "1d59cd9b",
   "metadata": {},
   "outputs": [
    {
     "data": {
      "text/plain": [
       "0"
      ]
     },
     "execution_count": 51,
     "metadata": {},
     "output_type": "execute_result"
    }
   ],
   "source": [
    "annees['2021'][\"8\"]['9'][\"12\"]['39']"
   ]
  },
  {
   "cell_type": "code",
   "execution_count": 30,
   "id": "b4a3cfec",
   "metadata": {},
   "outputs": [
    {
     "data": {
      "text/plain": [
       "('2021', '8', '9', '12', '39')"
      ]
     },
     "execution_count": 30,
     "metadata": {},
     "output_type": "execute_result"
    }
   ],
   "source": [
    "str(a.year),str(a.month),str(a.day),str(a.hour),str(39)"
   ]
  },
  {
   "cell_type": "code",
   "execution_count": 54,
   "id": "d4c9fc33",
   "metadata": {},
   "outputs": [],
   "source": [
    "annees[str(a.year)][str(a.month)][str(a.day)][str(a.hour)][str(39)] = 1"
   ]
  },
  {
   "cell_type": "code",
   "execution_count": 29,
   "id": "eed44748",
   "metadata": {},
   "outputs": [
    {
     "data": {
      "text/plain": [
       "0"
      ]
     },
     "execution_count": 29,
     "metadata": {},
     "output_type": "execute_result"
    }
   ],
   "source": [
    "a = datetime.now()\n",
    "annees[str(a.year)][str(a.month)][str(a.day)][str(a.hour)][str(a.minute)]"
   ]
  },
  {
   "cell_type": "code",
   "execution_count": 30,
   "id": "7ba9b5dd",
   "metadata": {},
   "outputs": [],
   "source": [
    "\"\"\"\n",
    "\n",
    "for i in range(60):\n",
    "    if i % 2 ==0:\n",
    "        annees[str(a.year)][str(a.month)][str(a.day)][str(a.hour)][str(i)] = 0\n",
    "    elif i % 2 !=0:\n",
    "        annees[str(a.year)][str(a.month)][str(a.day)][str(a.hour)][str(i)] = 1\n",
    "\"\"\""
   ]
  },
  {
   "cell_type": "code",
   "execution_count": 31,
   "id": "07544157",
   "metadata": {},
   "outputs": [],
   "source": [
    "import time"
   ]
  },
  {
   "cell_type": "code",
   "execution_count": 32,
   "id": "e6c0b2e2",
   "metadata": {},
   "outputs": [
    {
     "ename": "SyntaxError",
     "evalue": "invalid syntax (<ipython-input-32-fdcd50a112bd>, line 4)",
     "output_type": "error",
     "traceback": [
      "\u001b[1;36m  File \u001b[1;32m\"<ipython-input-32-fdcd50a112bd>\"\u001b[1;36m, line \u001b[1;32m4\u001b[0m\n\u001b[1;33m    a = datetime.now();;\u001b[0m\n\u001b[1;37m                       ^\u001b[0m\n\u001b[1;31mSyntaxError\u001b[0m\u001b[1;31m:\u001b[0m invalid syntax\n"
     ]
    }
   ],
   "source": [
    "i = 0\n",
    "while i < 5:\n",
    "    time.sleep(60)\n",
    "    a = datetime.now()\n",
    "    print(annees[str(a.year)][str(a.month)][str(a.day)][str(a.hour)][str(a.minute)])"
   ]
  }
 ],
 "metadata": {
  "kernelspec": {
   "display_name": "Python 3",
   "language": "python",
   "name": "python3"
  },
  "language_info": {
   "codemirror_mode": {
    "name": "ipython",
    "version": 3
   },
   "file_extension": ".py",
   "mimetype": "text/x-python",
   "name": "python",
   "nbconvert_exporter": "python",
   "pygments_lexer": "ipython3",
   "version": "3.8.10"
  }
 },
 "nbformat": 4,
 "nbformat_minor": 5
}
